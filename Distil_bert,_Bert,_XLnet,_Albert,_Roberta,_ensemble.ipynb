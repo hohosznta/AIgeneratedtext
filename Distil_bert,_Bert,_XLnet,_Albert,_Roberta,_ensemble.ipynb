{
  "cells": [
    {
      "cell_type": "markdown",
      "metadata": {
        "id": "view-in-github",
        "colab_type": "text"
      },
      "source": [
        "<a href=\"https://colab.research.google.com/github/hohosznta/AIgeneratedtext/blob/main/Distil_bert%2C_Bert%2C_XLnet%2C_Albert%2C_Roberta%2C_ensemble.ipynb\" target=\"_parent\"><img src=\"https://colab.research.google.com/assets/colab-badge.svg\" alt=\"Open In Colab\"/></a>"
      ]
    },
    {
      "cell_type": "code",
      "execution_count": null,
      "metadata": {
        "colab": {
          "base_uri": "https://localhost:8080/"
        },
        "id": "_BjwTHhv-Mj7",
        "outputId": "20196625-8189-45c7-ff62-a7099bf812f2"
      },
      "outputs": [
        {
          "output_type": "stream",
          "name": "stdout",
          "text": [
            "Mounted at /content/drive\n"
          ]
        }
      ],
      "source": [
        "from google.colab import drive\n",
        "drive.mount('/content/drive', force_remount=True)"
      ]
    },
    {
      "cell_type": "code",
      "execution_count": null,
      "metadata": {
        "id": "0nIvt2weAmtP",
        "colab": {
          "base_uri": "https://localhost:8080/"
        },
        "outputId": "57e3c58b-58db-41d7-f227-58b3e644c350"
      },
      "outputs": [
        {
          "output_type": "stream",
          "name": "stdout",
          "text": [
            "Collecting accelerate\n",
            "  Downloading accelerate-0.25.0-py3-none-any.whl (265 kB)\n",
            "\u001b[2K     \u001b[90m━━━━━━━━━━━━━━━━━━━━━━━━━━━━━━━━━━━━━━━━\u001b[0m \u001b[32m265.7/265.7 kB\u001b[0m \u001b[31m5.7 MB/s\u001b[0m eta \u001b[36m0:00:00\u001b[0m\n",
            "\u001b[?25hRequirement already satisfied: numpy>=1.17 in /usr/local/lib/python3.10/dist-packages (from accelerate) (1.23.5)\n",
            "Requirement already satisfied: packaging>=20.0 in /usr/local/lib/python3.10/dist-packages (from accelerate) (23.2)\n",
            "Requirement already satisfied: psutil in /usr/local/lib/python3.10/dist-packages (from accelerate) (5.9.5)\n",
            "Requirement already satisfied: pyyaml in /usr/local/lib/python3.10/dist-packages (from accelerate) (6.0.1)\n",
            "Requirement already satisfied: torch>=1.10.0 in /usr/local/lib/python3.10/dist-packages (from accelerate) (2.1.0+cu118)\n",
            "Requirement already satisfied: huggingface-hub in /usr/local/lib/python3.10/dist-packages (from accelerate) (0.19.4)\n",
            "Requirement already satisfied: safetensors>=0.3.1 in /usr/local/lib/python3.10/dist-packages (from accelerate) (0.4.1)\n",
            "Requirement already satisfied: filelock in /usr/local/lib/python3.10/dist-packages (from torch>=1.10.0->accelerate) (3.13.1)\n",
            "Requirement already satisfied: typing-extensions in /usr/local/lib/python3.10/dist-packages (from torch>=1.10.0->accelerate) (4.5.0)\n",
            "Requirement already satisfied: sympy in /usr/local/lib/python3.10/dist-packages (from torch>=1.10.0->accelerate) (1.12)\n",
            "Requirement already satisfied: networkx in /usr/local/lib/python3.10/dist-packages (from torch>=1.10.0->accelerate) (3.2.1)\n",
            "Requirement already satisfied: jinja2 in /usr/local/lib/python3.10/dist-packages (from torch>=1.10.0->accelerate) (3.1.2)\n",
            "Requirement already satisfied: fsspec in /usr/local/lib/python3.10/dist-packages (from torch>=1.10.0->accelerate) (2023.6.0)\n",
            "Requirement already satisfied: triton==2.1.0 in /usr/local/lib/python3.10/dist-packages (from torch>=1.10.0->accelerate) (2.1.0)\n",
            "Requirement already satisfied: requests in /usr/local/lib/python3.10/dist-packages (from huggingface-hub->accelerate) (2.31.0)\n",
            "Requirement already satisfied: tqdm>=4.42.1 in /usr/local/lib/python3.10/dist-packages (from huggingface-hub->accelerate) (4.66.1)\n",
            "Requirement already satisfied: MarkupSafe>=2.0 in /usr/local/lib/python3.10/dist-packages (from jinja2->torch>=1.10.0->accelerate) (2.1.3)\n",
            "Requirement already satisfied: charset-normalizer<4,>=2 in /usr/local/lib/python3.10/dist-packages (from requests->huggingface-hub->accelerate) (3.3.2)\n",
            "Requirement already satisfied: idna<4,>=2.5 in /usr/local/lib/python3.10/dist-packages (from requests->huggingface-hub->accelerate) (3.6)\n",
            "Requirement already satisfied: urllib3<3,>=1.21.1 in /usr/local/lib/python3.10/dist-packages (from requests->huggingface-hub->accelerate) (2.0.7)\n",
            "Requirement already satisfied: certifi>=2017.4.17 in /usr/local/lib/python3.10/dist-packages (from requests->huggingface-hub->accelerate) (2023.11.17)\n",
            "Requirement already satisfied: mpmath>=0.19 in /usr/local/lib/python3.10/dist-packages (from sympy->torch>=1.10.0->accelerate) (1.3.0)\n",
            "Installing collected packages: accelerate\n",
            "Successfully installed accelerate-0.25.0\n",
            "Requirement already satisfied: transformers in /usr/local/lib/python3.10/dist-packages (4.35.2)\n",
            "Requirement already satisfied: filelock in /usr/local/lib/python3.10/dist-packages (from transformers) (3.13.1)\n",
            "Requirement already satisfied: huggingface-hub<1.0,>=0.16.4 in /usr/local/lib/python3.10/dist-packages (from transformers) (0.19.4)\n",
            "Requirement already satisfied: numpy>=1.17 in /usr/local/lib/python3.10/dist-packages (from transformers) (1.23.5)\n",
            "Requirement already satisfied: packaging>=20.0 in /usr/local/lib/python3.10/dist-packages (from transformers) (23.2)\n",
            "Requirement already satisfied: pyyaml>=5.1 in /usr/local/lib/python3.10/dist-packages (from transformers) (6.0.1)\n",
            "Requirement already satisfied: regex!=2019.12.17 in /usr/local/lib/python3.10/dist-packages (from transformers) (2023.6.3)\n",
            "Requirement already satisfied: requests in /usr/local/lib/python3.10/dist-packages (from transformers) (2.31.0)\n",
            "Requirement already satisfied: tokenizers<0.19,>=0.14 in /usr/local/lib/python3.10/dist-packages (from transformers) (0.15.0)\n",
            "Requirement already satisfied: safetensors>=0.3.1 in /usr/local/lib/python3.10/dist-packages (from transformers) (0.4.1)\n",
            "Requirement already satisfied: tqdm>=4.27 in /usr/local/lib/python3.10/dist-packages (from transformers) (4.66.1)\n",
            "Requirement already satisfied: fsspec>=2023.5.0 in /usr/local/lib/python3.10/dist-packages (from huggingface-hub<1.0,>=0.16.4->transformers) (2023.6.0)\n",
            "Requirement already satisfied: typing-extensions>=3.7.4.3 in /usr/local/lib/python3.10/dist-packages (from huggingface-hub<1.0,>=0.16.4->transformers) (4.5.0)\n",
            "Requirement already satisfied: charset-normalizer<4,>=2 in /usr/local/lib/python3.10/dist-packages (from requests->transformers) (3.3.2)\n",
            "Requirement already satisfied: idna<4,>=2.5 in /usr/local/lib/python3.10/dist-packages (from requests->transformers) (3.6)\n",
            "Requirement already satisfied: urllib3<3,>=1.21.1 in /usr/local/lib/python3.10/dist-packages (from requests->transformers) (2.0.7)\n",
            "Requirement already satisfied: certifi>=2017.4.17 in /usr/local/lib/python3.10/dist-packages (from requests->transformers) (2023.11.17)\n"
          ]
        }
      ],
      "source": [
        "#!pip install wandb\n",
        "! pip install -U accelerate\n",
        "! pip install -U transformers\n",
        "\n",
        "#!pip install transformers[torch]\n",
        "#!pip install accelerate = 0.20.1"
      ]
    },
    {
      "cell_type": "code",
      "source": [
        "import matplotlib.pyplot as plt\n",
        "import numpy as np\n",
        "\n",
        "# Data\n",
        "models = [\"Albert\", \"Distill Bert\", \"Roberta\", \"Bert\", \"XLnet\"]\n",
        "all_parameters = [11980034, 68143106, 128776706, 113022722, 123207937]\n",
        "lora_parameters = [295681, 2360833, 4130305, 3539713, 5898240]\n",
        "percentage = [2.4681148651164095, 3.464522148432741, 3.2073386005074553, 3.1318596273057375, 4.78722405683978]\n",
        "\n",
        "# Create figure and axes\n",
        "fig, ax1 = plt.subplots()\n",
        "\n",
        "# Bar plot for all parameters\n",
        "ax1.bar(models, all_parameters, color='blue', label='All Parameters')\n",
        "ax1.set_ylabel('All Parameters', color='blue')\n",
        "ax1.tick_params('y', colors='blue')\n",
        "\n",
        "# Create a second y-axis to show LoRA parameters\n",
        "ax2 = ax1.twinx()\n",
        "ax2.bar(models, lora_parameters, color='yellow', label='LoRA Parameters')\n",
        "ax2.set_ylabel('LoRA Parameters', color='yellow')\n",
        "ax2.tick_params('y', colors='yellow')\n",
        "\n",
        "# Bar plot for percentage\n",
        "ax3 = ax1.twinx()\n",
        "ax3.spines['right'].set_position(('outward', 60))\n",
        "ax3.bar(models, percentage, color='green', alpha=0.5, label='Percentage')\n",
        "ax3.set_ylabel('Percentage', color='green')\n",
        "ax3.tick_params('y', colors='green')\n",
        "\n",
        "# Set labels and title\n",
        "ax1.set_xlabel('Models')\n",
        "ax1.set_title('Parameter Comparison')\n",
        "\n",
        "# Add legend\n",
        "lines, labels = ax1.get_legend_handles_labels()\n",
        "lines2, labels2 = ax2.get_legend_handles_labels()\n",
        "lines3, labels3 = ax3.get_legend_handles_labels()\n",
        "ax1.legend(lines + lines2 + lines3, labels + labels2 + labels3, loc='upper left')\n",
        "\n",
        "plt.show()\n"
      ],
      "metadata": {
        "colab": {
          "base_uri": "https://localhost:8080/",
          "height": 472
        },
        "id": "SqJ2eCyvuDqg",
        "outputId": "8bedb24e-1386-4b45-e232-b7715d777170"
      },
      "execution_count": null,
      "outputs": [
        {
          "output_type": "display_data",
          "data": {
            "text/plain": [
              "<Figure size 640x480 with 3 Axes>"
            ],
            "image/png": "[encoded data removed]"
          },
          "metadata": {}
        }
      ]
    },
    {
      "cell_type": "code",
      "execution_count": null,
      "metadata": {
        "colab": {
          "base_uri": "https://localhost:8080/"
        },
        "id": "WqaGjG8oOPXu",
        "outputId": "9f665aeb-38fc-422a-932d-8f6288229507"
      },
      "outputs": [
        {
          "output_type": "execute_result",
          "data": {
            "text/plain": [
              "('4.35.2', '0.25.0')"
            ]
          },
          "metadata": {},
          "execution_count": 3
        }
      ],
      "source": [
        "import accelerate\n",
        "import transformers\n",
        "\n",
        "transformers.__version__, accelerate.__version__"
      ]
    },
    {
      "cell_type": "code",
      "execution_count": null,
      "metadata": {
        "id": "tpS__bo3Ao43"
      },
      "outputs": [],
      "source": [
        "#!wandb login #2760afae3cddc39355fd83d56a601147e18e1acf"
      ]
    },
    {
      "cell_type": "code",
      "execution_count": null,
      "metadata": {
        "id": "LidOZFJd-Aw_"
      },
      "outputs": [],
      "source": [
        "import pandas as pd\n",
        "import numpy as np\n",
        "import transformers\n",
        "from transformers import (\n",
        "\n",
        "    BertTokenizerFast,\n",
        "    BertForSequenceClassification,\n",
        "\n",
        "    Trainer,\n",
        "    TrainingArguments\n",
        ")\n",
        "from sklearn.model_selection import train_test_split\n",
        "from sklearn.metrics import roc_auc_score\n",
        "\n",
        "from transformers import EarlyStoppingCallback\n",
        "import torch"
      ]
    },
    {
      "cell_type": "code",
      "execution_count": null,
      "metadata": {
        "id": "FAj1UMtH-AxE"
      },
      "outputs": [],
      "source": [
        "class Dataset(torch.utils.data.Dataset):\n",
        "    def __init__(self, encodings, labels=None):\n",
        "        self.encodings = encodings\n",
        "        self.labels = labels\n",
        "\n",
        "    def __getitem__(self, idx):\n",
        "        item = {key: torch.tensor(val[idx]) for key, val in self.encodings.items()}\n",
        "        if self.labels:\n",
        "            item[\"labels\"] = torch.tensor(self.labels[idx])\n",
        "        return item\n",
        "\n",
        "    def __len__(self):\n",
        "        return len(self.encodings[\"input_ids\"])"
      ]
    },
    {
      "cell_type": "code",
      "execution_count": null,
      "metadata": {
        "id": "OdpHZaa7_pdK"
      },
      "outputs": [],
      "source": [
        "def compute_metrics(p):\n",
        "    pred, labels = p\n",
        "\n",
        "    # Calculate AUC-ROC\n",
        "    auc_roc = roc_auc_score(y_true=labels, y_score=pred)\n",
        "\n",
        "    return {\"auc_roc\": auc_roc}"
      ]
    },
    {
      "cell_type": "markdown",
      "metadata": {
        "id": "qPU4xJ9_L8ty"
      },
      "source": [
        "#DistilBert"
      ]
    },
    {
      "cell_type": "code",
      "execution_count": null,
      "metadata": {
        "id": "k3cClSiHBUCw"
      },
      "outputs": [],
      "source": [
        "train_data = pd.read_csv(\"/content/drive/MyDrive/LLM/train_drcat_04.csv\")\n",
        "test_data = pd.read_csv(\"/content/drive/MyDrive/LLM/test_essays.csv\")\n",
        "#chat = pd.read_excel('/content/drive/MyDrive/LLM/Chat+Bard.xlsx')\n",
        "train = pd.read_csv('/content/drive/MyDrive/LLM/train_essays.csv')"
      ]
    },
    {
      "cell_type": "code",
      "source": [
        "!pip install peft"
      ],
      "metadata": {
        "colab": {
          "base_uri": "https://localhost:8080/"
        },
        "id": "nyQ9zmFSs1mk",
        "outputId": "7ab91fad-3851-4a3a-f5bd-2fc212a81f54"
      },
      "execution_count": null,
      "outputs": [
        {
          "output_type": "stream",
          "name": "stdout",
          "text": [
            "Collecting peft\n",
            "  Downloading peft-0.6.2-py3-none-any.whl (174 kB)\n",
            "\u001b[?25l     \u001b[90m━━━━━━━━━━━━━━━━━━━━━━━━━━━━━━━━━━━━━━━━\u001b[0m \u001b[32m0.0/174.7 kB\u001b[0m \u001b[31m?\u001b[0m eta \u001b[36m-:--:--\u001b[0m\r\u001b[2K     \u001b[91m━━━━━━━━━━━━━━━━━━━━━━━━━━━━━━━━━━━━━━━\u001b[0m\u001b[91m╸\u001b[0m \u001b[32m174.1/174.7 kB\u001b[0m \u001b[31m5.6 MB/s\u001b[0m eta \u001b[36m0:00:01\u001b[0m\r\u001b[2K     \u001b[90m━━━━━━━━━━━━━━━━━━━━━━━━━━━━━━━━━━━━━━━━\u001b[0m \u001b[32m174.7/174.7 kB\u001b[0m \u001b[31m4.6 MB/s\u001b[0m eta \u001b[36m0:00:00\u001b[0m\n",
            "\u001b[?25hRequirement already satisfied: numpy>=1.17 in /usr/local/lib/python3.10/dist-packages (from peft) (1.23.5)\n",
            "Requirement already satisfied: packaging>=20.0 in /usr/local/lib/python3.10/dist-packages (from peft) (23.2)\n",
            "Requirement already satisfied: psutil in /usr/local/lib/python3.10/dist-packages (from peft) (5.9.5)\n",
            "Requirement already satisfied: pyyaml in /usr/local/lib/python3.10/dist-packages (from peft) (6.0.1)\n",
            "Requirement already satisfied: torch>=1.13.0 in /usr/local/lib/python3.10/dist-packages (from peft) (2.1.0+cu118)\n",
            "Requirement already satisfied: transformers in /usr/local/lib/python3.10/dist-packages (from peft) (4.35.2)\n",
            "Requirement already satisfied: tqdm in /usr/local/lib/python3.10/dist-packages (from peft) (4.66.1)\n",
            "Requirement already satisfied: accelerate>=0.21.0 in /usr/local/lib/python3.10/dist-packages (from peft) (0.25.0)\n",
            "Requirement already satisfied: safetensors in /usr/local/lib/python3.10/dist-packages (from peft) (0.4.1)\n",
            "Requirement already satisfied: huggingface-hub in /usr/local/lib/python3.10/dist-packages (from accelerate>=0.21.0->peft) (0.19.4)\n",
            "Requirement already satisfied: filelock in /usr/local/lib/python3.10/dist-packages (from torch>=1.13.0->peft) (3.13.1)\n",
            "Requirement already satisfied: typing-extensions in /usr/local/lib/python3.10/dist-packages (from torch>=1.13.0->peft) (4.5.0)\n",
            "Requirement already satisfied: sympy in /usr/local/lib/python3.10/dist-packages (from torch>=1.13.0->peft) (1.12)\n",
            "Requirement already satisfied: networkx in /usr/local/lib/python3.10/dist-packages (from torch>=1.13.0->peft) (3.2.1)\n",
            "Requirement already satisfied: jinja2 in /usr/local/lib/python3.10/dist-packages (from torch>=1.13.0->peft) (3.1.2)\n",
            "Requirement already satisfied: fsspec in /usr/local/lib/python3.10/dist-packages (from torch>=1.13.0->peft) (2023.6.0)\n",
            "Requirement already satisfied: triton==2.1.0 in /usr/local/lib/python3.10/dist-packages (from torch>=1.13.0->peft) (2.1.0)\n",
            "Requirement already satisfied: regex!=2019.12.17 in /usr/local/lib/python3.10/dist-packages (from transformers->peft) (2023.6.3)\n",
            "Requirement already satisfied: requests in /usr/local/lib/python3.10/dist-packages (from transformers->peft) (2.31.0)\n",
            "Requirement already satisfied: tokenizers<0.19,>=0.14 in /usr/local/lib/python3.10/dist-packages (from transformers->peft) (0.15.0)\n",
            "Requirement already satisfied: MarkupSafe>=2.0 in /usr/local/lib/python3.10/dist-packages (from jinja2->torch>=1.13.0->peft) (2.1.3)\n",
            "Requirement already satisfied: charset-normalizer<4,>=2 in /usr/local/lib/python3.10/dist-packages (from requests->transformers->peft) (3.3.2)\n",
            "Requirement already satisfied: idna<4,>=2.5 in /usr/local/lib/python3.10/dist-packages (from requests->transformers->peft) (3.6)\n",
            "Requirement already satisfied: urllib3<3,>=1.21.1 in /usr/local/lib/python3.10/dist-packages (from requests->transformers->peft) (2.0.7)\n",
            "Requirement already satisfied: certifi>=2017.4.17 in /usr/local/lib/python3.10/dist-packages (from requests->transformers->peft) (2023.11.17)\n",
            "Requirement already satisfied: mpmath>=0.19 in /usr/local/lib/python3.10/dist-packages (from sympy->torch>=1.13.0->peft) (1.3.0)\n",
            "Installing collected packages: peft\n",
            "Successfully installed peft-0.6.2\n"
          ]
        }
      ]
    },
    {
      "cell_type": "code",
      "source": [
        "import os\n",
        "os.environ['CUDA_LAUNCH_BLOCKING'] = '1'\n"
      ],
      "metadata": {
        "id": "lDPTi7zOxQVh"
      },
      "execution_count": null,
      "outputs": []
    },
    {
      "cell_type": "code",
      "execution_count": null,
      "metadata": {
        "colab": {
          "base_uri": "https://localhost:8080/",
          "height": 990
        },
        "id": "raZh3xspL90H",
        "outputId": "c5bde326-24bf-471f-8ab5-ff1422c2ba9b"
      },
      "outputs": [
        {
          "output_type": "stream",
          "name": "stderr",
          "text": [
            "Some weights of BertForSequenceClassification were not initialized from the model checkpoint at bert-base-uncased and are newly initialized: ['classifier.weight', 'classifier.bias']\n",
            "You should probably TRAIN this model on a down-stream task to be able to use it for predictions and inference.\n"
          ]
        },
        {
          "output_type": "stream",
          "name": "stdout",
          "text": [
            "BertForSequenceClassification(\n",
            "  (bert): BertModel(\n",
            "    (embeddings): BertEmbeddings(\n",
            "      (word_embeddings): Embedding(30522, 768, padding_idx=0)\n",
            "      (position_embeddings): Embedding(512, 768)\n",
            "      (token_type_embeddings): Embedding(2, 768)\n",
            "      (LayerNorm): LayerNorm((768,), eps=1e-12, elementwise_affine=True)\n",
            "      (dropout): Dropout(p=0.1, inplace=False)\n",
            "    )\n",
            "    (encoder): BertEncoder(\n",
            "      (layer): ModuleList(\n",
            "        (0-11): 12 x BertLayer(\n",
            "          (attention): BertAttention(\n",
            "            (self): BertSelfAttention(\n",
            "              (query): Linear(in_features=768, out_features=768, bias=True)\n",
            "              (key): Linear(in_features=768, out_features=768, bias=True)\n",
            "              (value): Linear(in_features=768, out_features=768, bias=True)\n",
            "              (dropout): Dropout(p=0.1, inplace=False)\n",
            "            )\n",
            "            (output): BertSelfOutput(\n",
            "              (dense): Linear(in_features=768, out_features=768, bias=True)\n",
            "              (LayerNorm): LayerNorm((768,), eps=1e-12, elementwise_affine=True)\n",
            "              (dropout): Dropout(p=0.1, inplace=False)\n",
            "            )\n",
            "          )\n",
            "          (intermediate): BertIntermediate(\n",
            "            (dense): Linear(in_features=768, out_features=3072, bias=True)\n",
            "            (intermediate_act_fn): GELUActivation()\n",
            "          )\n",
            "          (output): BertOutput(\n",
            "            (dense): Linear(in_features=3072, out_features=768, bias=True)\n",
            "            (LayerNorm): LayerNorm((768,), eps=1e-12, elementwise_affine=True)\n",
            "            (dropout): Dropout(p=0.1, inplace=False)\n",
            "          )\n",
            "        )\n",
            "      )\n",
            "    )\n",
            "    (pooler): BertPooler(\n",
            "      (dense): Linear(in_features=768, out_features=768, bias=True)\n",
            "      (activation): Tanh()\n",
            "    )\n",
            "  )\n",
            "  (dropout): Dropout(p=0.1, inplace=False)\n",
            "  (classifier): Linear(in_features=768, out_features=1, bias=True)\n",
            ")\n",
            "109483009\n",
            "trainable params: 3539713 || all params: 113022722 || trainable%: 3.1318596273057375\n"
          ]
        },
        {
          "output_type": "execute_result",
          "data": {
            "text/plain": [
              "'\\n# ----- 1. Preprocess data -----#\\n# Preprocess data\\nX = list(train_data[\"text\"])\\ny = list(train_data[\"label\"])\\nX_test = list(test_data[\"text\"])\\n\\nX_train, X_val, y_train, y_val = train_test_split(X, y, test_size=0.2)\\ny_train = [float(label) for label in y_train]\\ny_val = [float(label) for label in y_val]\\n\\nX_train_tokenized = tokenizer(X_train, padding=True, truncation=True, max_length=512)\\nX_val_tokenized = tokenizer(X_val, padding=True, truncation=True, max_length=512)\\nX_test_tokenized = tokenizer(X_test, padding=True, truncation=True, max_length=512)\\n\\ntrain_dataset = Dataset(X_train_tokenized, y_train)\\nval_dataset = Dataset(X_val_tokenized, y_val)\\ntest_dataset = Dataset(X_test_tokenized)\\n\\n# Define Trainer\\nargs = TrainingArguments(\\n    output_dir=\"output\",\\n    evaluation_strategy=\"steps\",\\n    eval_steps=500,\\n    per_device_train_batch_size=8,\\n    per_device_eval_batch_size=8,\\n    num_train_epochs=3,\\n    seed=0,\\n    load_best_model_at_end=True,\\n    #report_to=\"wandb\",  # enable logging to W&B\\n    #run_name=\"distilbert-base-openai-detector(fixed)\",  # name of the W&B run (optional)\\n    logging_steps=1\\n)\\n\\n\\ntrainer = Trainer(\\n    model=peft_model,\\n    args=args,\\n    train_dataset=train_dataset,\\n    eval_dataset=val_dataset,\\n    compute_metrics=compute_metrics,\\n    callbacks=[EarlyStoppingCallback(early_stopping_patience=1)]\\n)\\n\\n\\n# Train pre-trained model\\ntrainer.train()'"
            ],
            "application/vnd.google.colaboratory.intrinsic+json": {
              "type": "string"
            }
          },
          "metadata": {},
          "execution_count": 17
        }
      ],
      "source": [
        "from sklearn.model_selection import train_test_split\n",
        "from sklearn.metrics import accuracy_score, precision_recall_fscore_support\n",
        "from peft import get_peft_config, PeftModel, PeftConfig, get_peft_model, LoraConfig, TaskType\n",
        "\n",
        "# Define pretrained tokenizer and model\n",
        "model_name = \"bert-base-uncased\"\n",
        "tokenizer =  BertTokenizerFast.from_pretrained(model_name)\n",
        "model = BertForSequenceClassification.from_pretrained(model_name, num_labels=1)\n",
        "print(model)\n",
        "num_params_original = model.num_parameters()\n",
        "print(num_params_original)\n",
        "\n",
        "peft_config = LoraConfig(\n",
        "    task_type=TaskType.SEQ_CLS,target_modules=[\"query\", \"key\",\"value\"],r=64, lora_alpha=1, lora_dropout=0.01\n",
        ")\n",
        "peft_model = get_peft_model(model, peft_config)\n",
        "\n",
        "def print_trainable_parameters(model):\n",
        "    \"\"\"\n",
        "    Prints the number of trainable parameters in the model.\n",
        "    \"\"\"\n",
        "    trainable_params = 0\n",
        "    all_param = 0\n",
        "    for _, param in model.named_parameters():\n",
        "        all_param += param.numel()\n",
        "        if param.requires_grad:\n",
        "            trainable_params += param.numel()\n",
        "    print(\n",
        "        f\"trainable params: {trainable_params} || all params: {all_param} || trainable%: {100 * trainable_params / all_param}\"\n",
        "    )\n",
        "print_trainable_parameters(peft_model)\n",
        "'''\n",
        "# ----- 1. Preprocess data -----#\n",
        "# Preprocess data\n",
        "X = list(train_data[\"text\"])\n",
        "y = list(train_data[\"label\"])\n",
        "X_test = list(test_data[\"text\"])\n",
        "\n",
        "X_train, X_val, y_train, y_val = train_test_split(X, y, test_size=0.2)\n",
        "y_train = [float(label) for label in y_train]\n",
        "y_val = [float(label) for label in y_val]\n",
        "\n",
        "X_train_tokenized = tokenizer(X_train, padding=True, truncation=True, max_length=512)\n",
        "X_val_tokenized = tokenizer(X_val, padding=True, truncation=True, max_length=512)\n",
        "X_test_tokenized = tokenizer(X_test, padding=True, truncation=True, max_length=512)\n",
        "\n",
        "train_dataset = Dataset(X_train_tokenized, y_train)\n",
        "val_dataset = Dataset(X_val_tokenized, y_val)\n",
        "test_dataset = Dataset(X_test_tokenized)\n",
        "\n",
        "# Define Trainer\n",
        "args = TrainingArguments(\n",
        "    output_dir=\"output\",\n",
        "    evaluation_strategy=\"steps\",\n",
        "    eval_steps=500,\n",
        "    per_device_train_batch_size=8,\n",
        "    per_device_eval_batch_size=8,\n",
        "    num_train_epochs=3,\n",
        "    seed=0,\n",
        "    load_best_model_at_end=True,\n",
        "    #report_to=\"wandb\",  # enable logging to W&B\n",
        "    #run_name=\"distilbert-base-openai-detector(fixed)\",  # name of the W&B run (optional)\n",
        "    logging_steps=1\n",
        ")\n",
        "\n",
        "\n",
        "trainer = Trainer(\n",
        "    model=peft_model,\n",
        "    args=args,\n",
        "    train_dataset=train_dataset,\n",
        "    eval_dataset=val_dataset,\n",
        "    compute_metrics=compute_metrics,\n",
        "    callbacks=[EarlyStoppingCallback(early_stopping_patience=1)]\n",
        ")\n",
        "\n",
        "\n",
        "# Train pre-trained model\n",
        "trainer.train()'''"
      ]
    },
    {
      "cell_type": "code",
      "execution_count": null,
      "metadata": {
        "id": "0onZNf7ndgor",
        "colab": {
          "base_uri": "https://localhost:8080/"
        },
        "outputId": "5bb74c94-da4c-40be-9db5-b8530c779240"
      },
      "outputs": [
        {
          "output_type": "stream",
          "name": "stdout",
          "text": [
            "  adding: content/albert/ (stored 0%)\n",
            "  adding: content/albert/README.md (deflated 67%)\n",
            "  adding: content/albert/adapter_config.json (deflated 47%)\n",
            "  adding: content/albert/adapter_model.bin (deflated 16%)\n",
            "updating: content/tokenizer_albert/ (stored 0%)\n",
            "updating: content/tokenizer_albert/tokenizer.json (deflated 75%)\n",
            "updating: content/tokenizer_albert/special_tokens_map.json (deflated 49%)\n",
            "updating: content/tokenizer_albert/tokenizer_config.json (deflated 76%)\n"
          ]
        }
      ],
      "source": [
        "trainer.model.save_pretrained('albert')\n",
        "!zip -r /content/model_3.zip /content/albert\n",
        "\n",
        "tokenizer.save_pretrained(\"tokenizer_albert\")\n",
        "!zip -r /content/tokenizer.zip /content/tokenizer_albert"
      ]
    },
    {
      "cell_type": "code",
      "source": [
        "#trainer.model.save_pretrained('xlnet')\n",
        "!zip -r /content/xlnet.zip /content/xlnet\n",
        "\n",
        "tokenizer.save_pretrained(\"tokenizer_xlnet\")\n",
        "!zip -r /content/tokenizer_xlnet.zip /content/tokenizer_xlnet"
      ],
      "metadata": {
        "colab": {
          "base_uri": "https://localhost:8080/"
        },
        "id": "UjO1b1FRzOUT",
        "outputId": "88ee9ca0-e9ab-4a64-f7fc-201102c3f1e3"
      },
      "execution_count": null,
      "outputs": [
        {
          "output_type": "stream",
          "name": "stdout",
          "text": [
            "  adding: content/xlnet/ (stored 0%)\n",
            "  adding: content/xlnet/adapter_config.json (deflated 48%)\n",
            "  adding: content/xlnet/adapter_model.bin (deflated 10%)\n",
            "  adding: content/xlnet/README.md (deflated 66%)\n",
            "  adding: content/tokenizer_xlnet/ (stored 0%)\n",
            "  adding: content/tokenizer_xlnet/tokenizer_config.json (deflated 82%)\n",
            "  adding: content/tokenizer_xlnet/special_tokens_map.json (deflated 52%)\n",
            "  adding: content/tokenizer_xlnet/tokenizer.json (deflated 75%)\n"
          ]
        }
      ]
    },
    {
      "cell_type": "code",
      "execution_count": null,
      "metadata": {
        "id": "FK6XpJ-Eu5vq"
      },
      "outputs": [],
      "source": [
        "'''import wandb\n",
        "wandb.init(project='LLM')\n",
        "\n",
        "# 실행 이름 설정\n",
        "wandb.run.name = 'DistilBert3'\n",
        "wandb.run.save()'''"
      ]
    },
    {
      "cell_type": "code",
      "source": [
        "tokenizer.save_pretrained('/content/drive/MyDrive/LLM Parameter/Distilbert/token')"
      ],
      "metadata": {
        "colab": {
          "base_uri": "https://localhost:8080/"
        },
        "id": "licAIbhM_3EW",
        "outputId": "0d5eb1ec-93b3-499a-d29b-4c2fd0004277"
      },
      "execution_count": null,
      "outputs": [
        {
          "output_type": "execute_result",
          "data": {
            "text/plain": [
              "('/content/drive/MyDrive/LLM Parameter/Distilbert/token/tokenizer_config.json',\n",
              " '/content/drive/MyDrive/LLM Parameter/Distilbert/token/special_tokens_map.json',\n",
              " '/content/drive/MyDrive/LLM Parameter/Distilbert/token/vocab.txt',\n",
              " '/content/drive/MyDrive/LLM Parameter/Distilbert/token/added_tokens.json',\n",
              " '/content/drive/MyDrive/LLM Parameter/Distilbert/token/tokenizer.json')"
            ]
          },
          "metadata": {},
          "execution_count": 25
        }
      ]
    },
    {
      "cell_type": "code",
      "source": [
        "!zip -r /content/drive/MyDrive/LLM Parameter/Distilbert/distilbert.zip /content/content/checkpoint-1"
      ],
      "metadata": {
        "colab": {
          "base_uri": "https://localhost:8080/"
        },
        "id": "fWFAL6qF786m",
        "outputId": "b700b0ba-aaff-4b86-a8ee-fbc632de5872"
      },
      "execution_count": null,
      "outputs": [
        {
          "output_type": "stream",
          "name": "stdout",
          "text": [
            "\tzip warning: name not matched: Parameter/Distilbert/distilbert.zip\n",
            "updating: content/content/checkpoint-1/ (stored 0%)\n",
            "updating: content/content/checkpoint-1/config.json (deflated 45%)\n"
          ]
        }
      ]
    },
    {
      "cell_type": "code",
      "source": [
        "'''#Custom dataset\n",
        "chat2 = chat[[\"text\", \"label\"]]\n",
        "\n",
        "train2 = train[['text', 'generated']].head(18)\n",
        "train2.rename(columns = {'generated' : 'label'}, inplace=True)\n",
        "\n",
        "merged_df = pd.concat([chat2, train2], ignore_index=True)\n",
        "\n",
        "# 결과 확인\n",
        "merged_df.head()\n",
        "print(len(merged_df))'''"
      ],
      "metadata": {
        "colab": {
          "base_uri": "https://localhost:8080/"
        },
        "id": "h-ltOYfVOobT",
        "outputId": "51e2425f-e8a0-4280-9e13-fb7b28886892"
      },
      "execution_count": null,
      "outputs": [
        {
          "output_type": "stream",
          "name": "stdout",
          "text": [
            "36\n"
          ]
        }
      ]
    },
    {
      "cell_type": "code",
      "source": [
        "!zip -r /content/drive/MyDrive/LLM Parameter/Distilbert/token.zip /content/distill_bert_tokenizer"
      ],
      "metadata": {
        "colab": {
          "base_uri": "https://localhost:8080/"
        },
        "id": "JL5EGnEf8XGi",
        "outputId": "3b76f77d-d804-458e-da55-6d6bf09358d2"
      },
      "execution_count": null,
      "outputs": [
        {
          "output_type": "stream",
          "name": "stdout",
          "text": [
            "\tzip warning: name not matched: Parameter/Distilbert/token.zip\n",
            "  adding: content/distill_bert_tokenizer/ (stored 0%)\n",
            "  adding: content/distill_bert_tokenizer/tokenizer.json (deflated 70%)\n",
            "  adding: content/distill_bert_tokenizer/vocab.txt (deflated 49%)\n",
            "  adding: content/distill_bert_tokenizer/special_tokens_map.json (deflated 42%)\n",
            "  adding: content/distill_bert_tokenizer/tokenizer_config.json (deflated 76%)\n"
          ]
        }
      ]
    },
    {
      "cell_type": "markdown",
      "source": [
        "#모델 예측"
      ],
      "metadata": {
        "id": "fdbQJomr5jIZ"
      }
    },
    {
      "cell_type": "code",
      "source": [
        "import torch.nn.functional as F\n",
        "\n",
        "X_test = list(test_data[\"text\"])\n",
        "\n",
        "#tokenizer = DistilBertTokenizerFast.from_pretrained(\"/content/drive/MyDrive/LLM Parameter/Distilbert/distilbert/model.safetensors\")\n",
        "X_test_tokenized = tokenizer(X_test, padding=True, truncation=True, max_length=512)\n",
        "\n",
        "# Create torch dataset\n",
        "test_dataset = Dataset(X_test_tokenized)\n",
        "\n",
        "# Load trained model\n",
        "#model_path = \"/content/drive/MyDrive/LLM Parameter/Distilbert/distilbert/model.safetensors\"\n",
        "#model =DistilBertForSequenceClassification.from_pretrained(model_path, num_labels=1)\n",
        "\n",
        "# Define test trainer\n",
        "test_trainer = Trainer(model)\n",
        "\n",
        "# Make prediction\n",
        "raw_pred, _, _ = test_trainer.predict(test_dataset)\n",
        "\n",
        "test_pred = (torch.tensor(raw_pred)).numpy().ravel()\n",
        "print(test_pred)"
      ],
      "metadata": {
        "colab": {
          "base_uri": "https://localhost:8080/",
          "height": 35
        },
        "id": "_-vuO-h35k8U",
        "outputId": "4ae6efba-32e2-4dff-91ae-4eb7940d09f3"
      },
      "execution_count": null,
      "outputs": [
        {
          "output_type": "display_data",
          "data": {
            "text/plain": [
              "<IPython.core.display.HTML object>"
            ],
            "text/html": []
          },
          "metadata": {}
        },
        {
          "output_type": "stream",
          "name": "stdout",
          "text": [
            "[0.01876952 0.01453518 0.01487168]\n"
          ]
        }
      ]
    },
    {
      "cell_type": "markdown",
      "source": [
        "#Bert"
      ],
      "metadata": {
        "id": "-jUNxWsW4sof"
      }
    },
    {
      "cell_type": "code",
      "source": [
        "from sklearn.model_selection import train_test_split\n",
        "from sklearn.metrics import accuracy_score, precision_recall_fscore_support\n",
        "from transformers import BertTokenizerFast, BertForSequenceClassification\n",
        "from datasets import Dataset\n",
        "from transformers import TrainingArguments, Trainer, EarlyStoppingCallback\n",
        "\n",
        "# Define pretrained tokenizer and model\n",
        "model_name = \"bert-base-cased\"\n",
        "tokenizer = BertTokenizerFast.from_pretrained(model_name)\n",
        "model = BertForSequenceClassification.from_pretrained(model_name, num_labels=1)\n",
        "\n",
        "# ----- 1. Preprocess data -----#\n",
        "# Preprocess data\n",
        "X = list(train_data[\"text\"])\n",
        "y = list(train_data[\"label\"])\n",
        "X_test = list(test_data[\"text\"])\n",
        "\n",
        "X_train, X_val, y_train, y_val = train_test_split(X, y, test_size=0.2)\n",
        "y_train = [float(label) for label in y_train]\n",
        "y_val = [float(label) for label in y_val]\n",
        "\n",
        "X_train_tokenized = tokenizer(X_train, padding=True, truncation=True, max_length=512)\n",
        "X_val_tokenized = tokenizer(X_val, padding=True, truncation=True, max_length=512)\n",
        "X_test_tokenized = tokenizer(X_test, padding=True, truncation=True, max_length=512)\n",
        "\n",
        "train_dataset = Dataset(X_train_tokenized, y_train)\n",
        "val_dataset = Dataset(X_val_tokenized, y_val)\n",
        "test_dataset = Dataset(X_test_tokenized)\n",
        "\n",
        "# Define Trainer\n",
        "args = TrainingArguments(\n",
        "    output_dir=\"output\",\n",
        "    evaluation_strategy=\"steps\",\n",
        "    eval_steps=500,\n",
        "    per_device_train_batch_size=8,\n",
        "    per_device_eval_batch_size=8,\n",
        "    num_train_epochs=3,\n",
        "    seed=0,\n",
        "    load_best_model_at_end=True,\n",
        "    report_to=\"wandb\",  # enable logging to W&B\n",
        "    run_name=\"bert-base-openai-detector(fixed)\",  # name of the W&B run (optional)\n",
        "    logging_steps=1\n",
        ")\n",
        "\n",
        "trainer = Trainer(\n",
        "    model=model,\n",
        "    args=args,\n",
        "    train_dataset=train_dataset,\n",
        "    eval_dataset=val_dataset,\n",
        "    compute_metrics=compute_metrics,\n",
        "    callbacks=[EarlyStoppingCallback(early_stopping_patience=3)]\n",
        ")\n",
        "\n",
        "# Train pre-trained model\n",
        "trainer.train()"
      ],
      "metadata": {
        "id": "CDwpUtpt4uyf"
      },
      "execution_count": null,
      "outputs": []
    },
    {
      "cell_type": "markdown",
      "source": [
        "Custom Dataset 예측"
      ],
      "metadata": {
        "id": "61HAlyKkOvbB"
      }
    },
    {
      "cell_type": "code",
      "source": [
        "import zipfile\n",
        "import os\n",
        "\n",
        "# Replace 'your_path' with the path where you have the zip file\n",
        "zip_file_path = '/content/drive/MyDrive/LLM Parameter/Bert/fine_tuned_tokenizer.zip'\n",
        "extract_folder = '/content/'\n",
        "\n",
        "# Unzip the file\n",
        "with zipfile.ZipFile(zip_file_path, 'r') as zip_ref:\n",
        "    zip_ref.extractall(extract_folder)\n",
        "\n",
        "# Replace 'your_path' with the path where you have the zip file\n",
        "zip_file_path = '/content/drive/MyDrive/LLM Parameter/Bert/fine_tuned_model.zip'\n",
        "extract_folder = '/content/'\n",
        "\n",
        "# Unzip the file\n",
        "with zipfile.ZipFile(zip_file_path, 'r') as zip_ref:\n",
        "    zip_ref.extractall(extract_folder)"
      ],
      "metadata": {
        "id": "I0J0qhEGOy13"
      },
      "execution_count": null,
      "outputs": []
    },
    {
      "cell_type": "code",
      "source": [
        "tokenizer = BertTokenizerFast.from_pretrained(\"/content/content/fine_tuned_Token\")\n",
        "Chat_test = list(merged_df[\"text\"])\n",
        "\n",
        "# Tokenize the test data\n",
        "chat_test_tokenized = tokenizer(Chat_test, padding=True, truncation=True, max_length=512)\n",
        "\n",
        "# Create torch dataset\n",
        "chat_test_dataset = Dataset(chat_test_tokenized)\n",
        "\n",
        "# Load the trained model using AutoModelForSequenceClassification\n",
        "model_path = \"/content/content/fine_tuned_model\"\n",
        "model = BertForSequenceClassification.from_pretrained(model_path, num_labels=1, ignore_mismatched_sizes=True)\n",
        "\n",
        "# Define the test trainer\n",
        "test_trainer = Trainer(model)\n",
        "\n",
        "# Make predictions\n",
        "raw_pred = test_trainer.predict(chat_test_dataset).predictions\n",
        "\n",
        "# Apply sigmoid activation if necessary\n",
        "test_pred1 = (torch.tensor(raw_pred)).numpy().ravel()"
      ],
      "metadata": {
        "colab": {
          "base_uri": "https://localhost:8080/",
          "height": 110
        },
        "id": "InnErfjlOvsU",
        "outputId": "991c6dcf-e2e6-4b15-904d-387167e227c5"
      },
      "execution_count": null,
      "outputs": [
        {
          "output_type": "stream",
          "name": "stderr",
          "text": [
            "Some weights of BertForSequenceClassification were not initialized from the model checkpoint at /content/content/fine_tuned_model and are newly initialized because the shapes did not match:\n",
            "- classifier.weight: found shape torch.Size([2, 768]) in the checkpoint and torch.Size([1, 768]) in the model instantiated\n",
            "- classifier.bias: found shape torch.Size([2]) in the checkpoint and torch.Size([1]) in the model instantiated\n",
            "You should probably TRAIN this model on a down-stream task to be able to use it for predictions and inference.\n"
          ]
        },
        {
          "output_type": "display_data",
          "data": {
            "text/plain": [
              "<IPython.core.display.HTML object>"
            ],
            "text/html": []
          },
          "metadata": {}
        }
      ]
    },
    {
      "cell_type": "code",
      "source": [
        "from sklearn.metrics import confusion_matrix, roc_auc_score, roc_curve, auc, accuracy_score, precision_score, recall_score, f1_score\n",
        "import seaborn as sns\n",
        "import matplotlib.pyplot as plt\n",
        "\n",
        "# Make predictions on the test set\n",
        "preds_test = test_pred1\n",
        "y_test_vectors = merged_df['label']\n",
        "\n",
        "# Generate confusion matrix\n",
        "fpr, tpr, thresholds = roc_curve(y_test_vectors, preds_test)\n",
        "roc_auc = auc(fpr, tpr)\n",
        "\n",
        "# You can choose a threshold based on your requirements, for example, maximizing the F1 score\n",
        "optimal_threshold = thresholds[np.argmax(tpr - fpr)]\n",
        "\n",
        "# Convert probabilities to binary predictions using the optimal threshold\n",
        "binary_preds_test = (preds_test >= optimal_threshold).astype(int)\n",
        "\n",
        "# Generate confusion matrix\n",
        "conf_matrix = confusion_matrix(y_test_vectors, binary_preds_test)\n",
        "\n",
        "# Calculate additional metrics\n",
        "accuracy = accuracy_score(y_test_vectors, binary_preds_test)\n",
        "precision = precision_score(y_test_vectors, binary_preds_test)\n",
        "recall = recall_score(y_test_vectors, binary_preds_test)\n",
        "f1 = f1_score(y_test_vectors, binary_preds_test)\n",
        "\n",
        "# Print metrics\n",
        "print('ROC AUC test:', roc_auc)\n",
        "print('Accuracy:', accuracy)\n",
        "print('Precision:', precision)\n",
        "print('Recall:', recall)\n",
        "print('F1 Score:', f1)\n",
        "\n",
        "# Plot confusion matrix using seaborn\n",
        "plt.figure(figsize=(8, 6))\n",
        "sns.heatmap(conf_matrix, annot=True, fmt='d', cmap='Blues', xticklabels=['Negative', 'Positive'], yticklabels=['Negative', 'Positive'])\n",
        "plt.xlabel('Predicted')\n",
        "plt.ylabel('True')\n",
        "plt.title('Confusion Matrix - Test Set')\n",
        "plt.show()"
      ],
      "metadata": {
        "colab": {
          "base_uri": "https://localhost:8080/",
          "height": 655
        },
        "id": "dahjr4IZPtyJ",
        "outputId": "32d8e462-cd0f-4a7d-9ec4-0046a00feae8"
      },
      "execution_count": null,
      "outputs": [
        {
          "output_type": "stream",
          "name": "stdout",
          "text": [
            "ROC AUC test: 1.0\n",
            "Accuracy: 1.0\n",
            "Precision: 1.0\n",
            "Recall: 1.0\n",
            "F1 Score: 1.0\n"
          ]
        },
        {
          "output_type": "display_data",
          "data": {
            "text/plain": [
              "<Figure size 800x600 with 2 Axes>"
            ],
            "image/png": "[encoded data removed]"
          },
          "metadata": {}
        }
      ]
    },
    {
      "cell_type": "markdown",
      "metadata": {
        "id": "xnDB_p3XAIGS"
      },
      "source": [
        "#XLnet_train"
      ]
    },
    {
      "cell_type": "code",
      "execution_count": null,
      "metadata": {
        "colab": {
          "base_uri": "https://localhost:8080/",
          "height": 159
        },
        "id": "Qk7rD7BkAyoP",
        "outputId": "e455842e-c461-43d2-ccd9-31bb730a78e6"
      },
      "outputs": [
        {
          "name": "stderr",
          "output_type": "stream",
          "text": [
            "\u001b[34m\u001b[1mwandb\u001b[0m: Currently logged in as: \u001b[33miuapink0522\u001b[0m. Use \u001b[1m`wandb login --relogin`\u001b[0m to force relogin\n"
          ]
        },
        {
          "data": {
            "text/html": [
              "Tracking run with wandb version 0.16.0"
            ],
            "text/plain": [
              "<IPython.core.display.HTML object>"
            ]
          },
          "metadata": {},
          "output_type": "display_data"
        },
        {
          "data": {
            "text/html": [
              "Run data is saved locally in <code>/content/wandb/run-20231121_141000-zmqlee9g</code>"
            ],
            "text/plain": [
              "<IPython.core.display.HTML object>"
            ]
          },
          "metadata": {},
          "output_type": "display_data"
        },
        {
          "data": {
            "text/html": [
              "Syncing run <strong><a href='https://wandb.ai/iuapink0522/LLM/runs/zmqlee9g' target=\"_blank\">worthy-meadow-18</a></strong> to <a href='https://wandb.ai/iuapink0522/LLM' target=\"_blank\">Weights & Biases</a> (<a href='https://wandb.me/run' target=\"_blank\">docs</a>)<br/>"
            ],
            "text/plain": [
              "<IPython.core.display.HTML object>"
            ]
          },
          "metadata": {},
          "output_type": "display_data"
        },
        {
          "data": {
            "text/html": [
              " View project at <a href='https://wandb.ai/iuapink0522/LLM' target=\"_blank\">https://wandb.ai/iuapink0522/LLM</a>"
            ],
            "text/plain": [
              "<IPython.core.display.HTML object>"
            ]
          },
          "metadata": {},
          "output_type": "display_data"
        },
        {
          "data": {
            "text/html": [
              " View run at <a href='https://wandb.ai/iuapink0522/LLM/runs/zmqlee9g' target=\"_blank\">https://wandb.ai/iuapink0522/LLM/runs/zmqlee9g</a>"
            ],
            "text/plain": [
              "<IPython.core.display.HTML object>"
            ]
          },
          "metadata": {},
          "output_type": "display_data"
        },
        {
          "name": "stderr",
          "output_type": "stream",
          "text": [
            "\u001b[34m\u001b[1mwandb\u001b[0m: \u001b[33mWARNING\u001b[0m Calling wandb.run.save without any arguments is deprecated.Changes to attributes are automatically persisted.\n"
          ]
        },
        {
          "data": {
            "text/plain": [
              "True"
            ]
          },
          "execution_count": 5,
          "metadata": {},
          "output_type": "execute_result"
        }
      ],
      "source": [
        "import wandb\n",
        "wandb.init(project='LLM')\n",
        "\n",
        "# 실행 이름 설정\n",
        "wandb.run.name = 'XLnet'\n",
        "wandb.run.save()"
      ]
    },
    {
      "cell_type": "code",
      "execution_count": null,
      "metadata": {
        "colab": {
          "base_uri": "https://localhost:8080/",
          "height": 388
        },
        "id": "vWVHb2CQ-AxF",
        "outputId": "9ee6e6c3-7773-4d79-d930-6045347be31e"
      },
      "outputs": [
        {
          "name": "stderr",
          "output_type": "stream",
          "text": [
            "Some weights of XLNetForSequenceClassification were not initialized from the model checkpoint at xlnet-base-cased and are newly initialized: ['sequence_summary.summary.bias', 'logits_proj.weight', 'logits_proj.bias', 'sequence_summary.summary.weight']\n",
            "You should probably TRAIN this model on a down-stream task to be able to use it for predictions and inference.\n"
          ]
        },
        {
          "data": {
            "text/html": [
              "\n",
              "    <div>\n",
              "      \n",
              "      <progress value='3500' max='13263' style='width:300px; height:20px; vertical-align: middle;'></progress>\n",
              "      [ 3500/13263 1:11:07 < 3:18:31, 0.82 it/s, Epoch 0/3]\n",
              "    </div>\n",
              "    <table border=\"1\" class=\"dataframe\">\n",
              "  <thead>\n",
              " <tr style=\"text-align: left;\">\n",
              "      <th>Step</th>\n",
              "      <th>Training Loss</th>\n",
              "      <th>Validation Loss</th>\n",
              "      <th>Auc Roc</th>\n",
              "    </tr>\n",
              "  </thead>\n",
              "  <tbody>\n",
              "    <tr>\n",
              "      <td>500</td>\n",
              "      <td>0.013800</td>\n",
              "      <td>0.033293</td>\n",
              "      <td>0.998018</td>\n",
              "    </tr>\n",
              "    <tr>\n",
              "      <td>1000</td>\n",
              "      <td>0.025700</td>\n",
              "      <td>0.021331</td>\n",
              "      <td>0.995633</td>\n",
              "    </tr>\n",
              "    <tr>\n",
              "      <td>1500</td>\n",
              "      <td>0.002200</td>\n",
              "      <td>0.041292</td>\n",
              "      <td>0.996228</td>\n",
              "    </tr>\n",
              "    <tr>\n",
              "      <td>2000</td>\n",
              "      <td>0.128400</td>\n",
              "      <td>0.012623</td>\n",
              "      <td>0.998048</td>\n",
              "    </tr>\n",
              "    <tr>\n",
              "      <td>2500</td>\n",
              "      <td>0.002100</td>\n",
              "      <td>0.038326</td>\n",
              "      <td>0.998102</td>\n",
              "    </tr>\n",
              "    <tr>\n",
              "      <td>3000</td>\n",
              "      <td>0.112600</td>\n",
              "      <td>0.017101</td>\n",
              "      <td>0.998425</td>\n",
              "    </tr>\n",
              "    <tr>\n",
              "      <td>3500</td>\n",
              "      <td>0.210000</td>\n",
              "      <td>0.140601</td>\n",
              "      <td>0.979557</td>\n",
              "    </tr>\n",
              "  </tbody>\n",
              "</table><p>"
            ],
            "text/plain": [
              "<IPython.core.display.HTML object>"
            ]
          },
          "metadata": {},
          "output_type": "display_data"
        },
        {
          "data": {
            "text/plain": [
              "TrainOutput(global_step=3500, training_loss=0.03651865804931315, metrics={'train_runtime': 4268.2766, 'train_samples_per_second': 24.856, 'train_steps_per_second': 3.107, 'total_flos': 7976581681152000.0, 'train_loss': 0.03651865804931315, 'epoch': 0.79})"
            ]
          },
          "execution_count": 18,
          "metadata": {},
          "output_type": "execute_result"
        }
      ],
      "source": [
        "# Define pretrained tokenizer and model\n",
        "model_name = \"xlnet-base-cased\"\n",
        "tokenizer =  XLNetTokenizerFast.from_pretrained(model_name)\n",
        "model = XLNetForSequenceClassification.from_pretrained(model_name, num_labels=1)\n",
        "\n",
        "# ----- 1. Preprocess data -----#\n",
        "# Preprocess data\n",
        "X = list(train_data[\"text\"])\n",
        "y = list(train_data[\"label\"])\n",
        "X_test = list(test_data[\"text\"])\n",
        "\n",
        "X_train, X_val, y_train, y_val = train_test_split(X, y, test_size=0.2)\n",
        "y_train = [float(label) for label in y_train]\n",
        "y_val = [float(label) for label in y_val]\n",
        "\n",
        "X_train_tokenized = tokenizer(X_train, padding=True, truncation=True, max_length=512)\n",
        "X_val_tokenized = tokenizer(X_val, padding=True, truncation=True, max_length=512)\n",
        "X_test_tokenized = tokenizer(X_test, padding=True, truncation=True, max_length=512)\n",
        "\n",
        "train_dataset = Dataset(X_train_tokenized, y_train)\n",
        "val_dataset = Dataset(X_val_tokenized, y_val)\n",
        "test_dataset = Dataset(X_test_tokenized)\n",
        "\n",
        "# Define Trainer\n",
        "args = TrainingArguments(\n",
        "    output_dir=\"output\",\n",
        "    evaluation_strategy=\"steps\",\n",
        "    eval_steps=500,\n",
        "    per_device_train_batch_size=8,\n",
        "    per_device_eval_batch_size=8,\n",
        "    num_train_epochs=3,\n",
        "    seed=0,\n",
        "    load_best_model_at_end=True,\n",
        "    report_to=\"wandb\",  # enable logging to W&B\n",
        "    run_name=\"xlnet-base-openai-detector(fixed)\",  # name of the W&B run (optional)\n",
        "    logging_steps=1\n",
        ")\n",
        "\n",
        "trainer = Trainer(\n",
        "    model=model,\n",
        "    args=args,\n",
        "    train_dataset=train_dataset,\n",
        "    eval_dataset=val_dataset,\n",
        "    compute_metrics=compute_metrics,\n",
        "    callbacks=[EarlyStoppingCallback(early_stopping_patience=3)],\n",
        ")\n",
        "\n",
        "# Train pre-trained model\n",
        "trainer.train()"
      ]
    },
    {
      "cell_type": "code",
      "execution_count": null,
      "metadata": {
        "id": "bYLzzU5XByuL"
      },
      "outputs": [],
      "source": [
        "model_save_path = \"/content/drive/MyDrive/LLM Parameter/xlnet\"\n",
        "trainer.save_model(model_save_path)\n",
        "\n",
        "config_save_path = '/content/drive/MyDrive/LLM Parameter/xlnet'\n",
        "model.config.save_pretrained(config_save_path)"
      ]
    },
    {
      "cell_type": "markdown",
      "source": [
        "custom dataset"
      ],
      "metadata": {
        "id": "9GpBHJkhSCe8"
      }
    },
    {
      "cell_type": "code",
      "source": [
        "import zipfile\n",
        "import os\n",
        "\n",
        "# Replace 'your_path' with the path where you have the zip file\n",
        "zip_file_path = '/content/drive/MyDrive/LLM Parameter/XLnet.zip'\n",
        "extract_folder = '/content/'\n",
        "\n",
        "# Unzip the file\n",
        "with zipfile.ZipFile(zip_file_path, 'r') as zip_ref:\n",
        "    zip_ref.extractall(extract_folder)"
      ],
      "metadata": {
        "id": "briX2852SNZA"
      },
      "execution_count": null,
      "outputs": []
    },
    {
      "cell_type": "code",
      "source": [
        "tokenizer = XLNetTokenizerFast.from_pretrained(\"/content/file_tokenizer_4/content/xlnet_1\")\n",
        "Chat_test = list(merged_df[\"text\"])\n",
        "\n",
        "# Tokenize the test data\n",
        "chat_test_tokenized = tokenizer(Chat_test, padding=True, truncation=True, max_length=512)\n",
        "\n",
        "# Create torch dataset\n",
        "chat_test_dataset = Dataset(chat_test_tokenized)\n",
        "\n",
        "# Load the trained model using AutoModelForSequenceClassification\n",
        "model_path = \"/content/file_4/content/output/checkpoint-2500\"\n",
        "model = XLNetForSequenceClassification.from_pretrained(model_path, num_labels=1, ignore_mismatched_sizes=True)\n",
        "\n",
        "# Define the test trainer\n",
        "test_trainer = Trainer(model)\n",
        "\n",
        "# Make predictions\n",
        "raw_pred = test_trainer.predict(chat_test_dataset).predictions\n",
        "\n",
        "# Apply sigmoid activation if necessary\n",
        "test_pred2 = (torch.tensor(raw_pred)).numpy().ravel()"
      ],
      "metadata": {
        "colab": {
          "base_uri": "https://localhost:8080/",
          "height": 17
        },
        "id": "4dgVZynBSJaw",
        "outputId": "5193a9c1-d6c0-405e-fbe6-936e1526b79f"
      },
      "execution_count": null,
      "outputs": [
        {
          "output_type": "display_data",
          "data": {
            "text/plain": [
              "<IPython.core.display.HTML object>"
            ],
            "text/html": []
          },
          "metadata": {}
        }
      ]
    },
    {
      "cell_type": "code",
      "source": [
        "from sklearn.metrics import confusion_matrix, roc_auc_score, roc_curve, auc, accuracy_score, precision_score, recall_score, f1_score\n",
        "import seaborn as sns\n",
        "import matplotlib.pyplot as plt\n",
        "\n",
        "# Make predictions on the test set\n",
        "preds_test = test_pred2\n",
        "y_test_vectors = merged_df['label']\n",
        "\n",
        "# Generate confusion matrix\n",
        "fpr, tpr, thresholds = roc_curve(y_test_vectors, preds_test)\n",
        "roc_auc = auc(fpr, tpr)\n",
        "\n",
        "# You can choose a threshold based on your requirements, for example, maximizing the F1 score\n",
        "optimal_threshold = thresholds[np.argmax(tpr - fpr)]\n",
        "\n",
        "# Convert probabilities to binary predictions using the optimal threshold\n",
        "binary_preds_test = (preds_test >= optimal_threshold).astype(int)\n",
        "\n",
        "# Generate confusion matrix\n",
        "conf_matrix = confusion_matrix(y_test_vectors, binary_preds_test)\n",
        "\n",
        "# Calculate additional metrics\n",
        "accuracy = accuracy_score(y_test_vectors, binary_preds_test)\n",
        "precision = precision_score(y_test_vectors, binary_preds_test)\n",
        "recall = recall_score(y_test_vectors, binary_preds_test)\n",
        "f1 = f1_score(y_test_vectors, binary_preds_test)\n",
        "\n",
        "# Print metrics\n",
        "print('ROC AUC test:', roc_auc)\n",
        "print('Accuracy:', accuracy)\n",
        "print('Precision:', precision)\n",
        "print('Recall:', recall)\n",
        "print('F1 Score:', f1)\n",
        "\n",
        "# Plot confusion matrix using seaborn\n",
        "plt.figure(figsize=(8, 6))\n",
        "sns.heatmap(conf_matrix, annot=True, fmt='d', cmap='Blues', xticklabels=['Negative', 'Positive'], yticklabels=['Negative', 'Positive'])\n",
        "plt.xlabel('Predicted')\n",
        "plt.ylabel('True')\n",
        "plt.title('Confusion Matrix - Test Set')\n",
        "plt.show()"
      ],
      "metadata": {
        "colab": {
          "base_uri": "https://localhost:8080/",
          "height": 655
        },
        "id": "w3xQ5lfwSD6D",
        "outputId": "1d9ed605-d9a6-4e26-ba6a-e27cd239e4b6"
      },
      "execution_count": null,
      "outputs": [
        {
          "output_type": "stream",
          "name": "stdout",
          "text": [
            "ROC AUC test: 1.0\n",
            "Accuracy: 1.0\n",
            "Precision: 1.0\n",
            "Recall: 1.0\n",
            "F1 Score: 1.0\n"
          ]
        },
        {
          "output_type": "display_data",
          "data": {
            "text/plain": [
              "<Figure size 800x600 with 2 Axes>"
            ],
            "image/png": "[encoded data removed]"
          },
          "metadata": {}
        }
      ]
    },
    {
      "cell_type": "markdown",
      "metadata": {
        "id": "syogCe4cBJus"
      },
      "source": [
        "#Albert_train"
      ]
    },
    {
      "cell_type": "code",
      "execution_count": null,
      "metadata": {
        "id": "FPqNfiUSBOlx"
      },
      "outputs": [],
      "source": [
        "# Define pretrained tokenizer and model\n",
        "model_name = \"aibert-base-cased\"\n",
        "tokenizer =  AlbertTokenizerFast.from_pretrained(model_name)\n",
        "model = AlbertForSequenceClassification.from_pretrained(model_name, num_labels=1)\n",
        "\n",
        "X_train_tokenized = tokenizer(X_train, padding=True, truncation=True, max_length=512)\n",
        "X_test_tokenized = tokenizer(X_test, padding=True, truncation=True, max_length=512)\n",
        "\n",
        "# ----- 1. Preprocess data -----#\n",
        "# Preprocess data\n",
        "X = list(train_data[\"text\"])\n",
        "y = list(train_data[\"label\"])\n",
        "X_test = list(test_data[\"text\"])\n",
        "\n",
        "X_train, X_val, y_train, y_val = train_test_split(X, y, test_size=0.2)\n",
        "y_train = [float(label) for label in y_train]\n",
        "y_val = [float(label) for label in y_val]\n",
        "\n",
        "X_train_tokenized = tokenizer(X_train, padding=True, truncation=True, max_length=512)\n",
        "X_val_tokenized = tokenizer(X_val, padding=True, truncation=True, max_length=512)\n",
        "X_test_tokenized = tokenizer(X_test, padding=True, truncation=True, max_length=512)\n",
        "\n",
        "train_dataset = Dataset(X_train_tokenized, y_train)\n",
        "val_dataset = Dataset(X_val_tokenized, y_val)\n",
        "test_dataset = Dataset(X_test_tokenized)\n",
        "\n",
        "\n",
        "# Define Trainer\n",
        "args = TrainingArguments(\n",
        "    output_dir=\"output\",\n",
        "    evaluation_strategy=\"steps\",\n",
        "    eval_steps=500,\n",
        "    per_device_train_batch_size=8,\n",
        "    per_device_eval_batch_size=8,\n",
        "    num_train_epochs=3,\n",
        "    seed=0,\n",
        "    load_best_model_at_end=True,\n",
        "    report_to=\"wandb\",  # enable logging to W&B\n",
        "    run_name=\"aibert-base-cased-openai-detector(fixed)\",  # name of the W&B run (optional)\n",
        "    logging_steps=1\n",
        ")\n",
        "trainer = Trainer(\n",
        "    model=model,\n",
        "    args=args,\n",
        "    train_dataset=train_dataset,\n",
        "    eval_dataset=val_dataset,\n",
        "    compute_metrics=compute_metrics,\n",
        "    callbacks=[EarlyStoppingCallback(early_stopping_patience=3)],\n",
        ")\n",
        "\n",
        "# Train pre-trained model\n",
        "trainer.train()"
      ]
    },
    {
      "cell_type": "code",
      "execution_count": null,
      "metadata": {
        "id": "zi_MTN2JBxQn"
      },
      "outputs": [],
      "source": [
        "model_save_path = \"/content/drive/MyDrive/LLM Parameter/AIbert\"\n",
        "trainer.save_model(model_save_path)\n",
        "\n",
        "config_save_path = '/content/drive/MyDrive/LLM Parameter/AIbert'\n",
        "model.config.save_pretrained(config_save_path)"
      ]
    },
    {
      "cell_type": "markdown",
      "source": [
        "custom dataset"
      ],
      "metadata": {
        "id": "o6z3UKrdVOOL"
      }
    },
    {
      "cell_type": "code",
      "source": [
        "import zipfile\n",
        "import os\n",
        "\n",
        "# Replace 'your_path' with the path where you have the zip file\n",
        "zip_file_path = '/content/drive/MyDrive/LLM Parameter/albert.zip'\n",
        "extract_folder = '/content/'\n",
        "\n",
        "# Unzip the file\n",
        "with zipfile.ZipFile(zip_file_path, 'r') as zip_ref:\n",
        "    zip_ref.extractall(extract_folder)"
      ],
      "metadata": {
        "id": "HKSp-wltVNqx"
      },
      "execution_count": null,
      "outputs": []
    },
    {
      "cell_type": "code",
      "source": [
        "tokenizer = AlbertTokenizerFast.from_pretrained(\"/content/file_tokenizer_2/content/albert_1\")\n",
        "Chat_test = list(merged_df[\"text\"])\n",
        "\n",
        "# Tokenize the test data\n",
        "chat_test_tokenized = tokenizer(Chat_test, padding=True, truncation=True, max_length=512)\n",
        "\n",
        "# Create torch dataset\n",
        "chat_test_dataset = Dataset(chat_test_tokenized)\n",
        "\n",
        "# Load the trained model using AutoModelForSequenceClassification\n",
        "model_path = \"/content/file_3/content/output/checkpoint-10500\"\n",
        "model = AlbertForSequenceClassification.from_pretrained(model_path, num_labels=1, ignore_mismatched_sizes=True)\n",
        "\n",
        "# Define the test trainer\n",
        "test_trainer = Trainer(model)\n",
        "\n",
        "# Make predictions\n",
        "raw_pred = test_trainer.predict(chat_test_dataset).predictions\n",
        "\n",
        "# Apply sigmoid activation if necessary\n",
        "test_pred3 = (torch.tensor(raw_pred)).numpy().ravel()"
      ],
      "metadata": {
        "colab": {
          "base_uri": "https://localhost:8080/",
          "height": 17
        },
        "id": "YBI7sNxGVXLS",
        "outputId": "b67813c3-1f38-4518-9c4b-97b05a7031dd"
      },
      "execution_count": null,
      "outputs": [
        {
          "output_type": "display_data",
          "data": {
            "text/plain": [
              "<IPython.core.display.HTML object>"
            ],
            "text/html": []
          },
          "metadata": {}
        }
      ]
    },
    {
      "cell_type": "code",
      "source": [
        "from sklearn.metrics import confusion_matrix, roc_auc_score, roc_curve, auc, accuracy_score, precision_score, recall_score, f1_score\n",
        "import seaborn as sns\n",
        "import matplotlib.pyplot as plt\n",
        "\n",
        "# Make predictions on the test set\n",
        "preds_test = test_pred3\n",
        "y_test_vectors = merged_df['label']\n",
        "\n",
        "# Generate confusion matrix\n",
        "fpr, tpr, thresholds = roc_curve(y_test_vectors, preds_test)\n",
        "roc_auc = auc(fpr, tpr)\n",
        "\n",
        "# You can choose a threshold based on your requirements, for example, maximizing the F1 score\n",
        "optimal_threshold = thresholds[np.argmax(tpr - fpr)]\n",
        "\n",
        "# Convert probabilities to binary predictions using the optimal threshold\n",
        "binary_preds_test = (preds_test >= optimal_threshold).astype(int)\n",
        "\n",
        "# Generate confusion matrix\n",
        "conf_matrix = confusion_matrix(y_test_vectors, binary_preds_test)\n",
        "\n",
        "# Calculate additional metrics\n",
        "accuracy = accuracy_score(y_test_vectors, binary_preds_test)\n",
        "precision = precision_score(y_test_vectors, binary_preds_test)\n",
        "recall = recall_score(y_test_vectors, binary_preds_test)\n",
        "f1 = f1_score(y_test_vectors, binary_preds_test)\n",
        "\n",
        "# Print metrics\n",
        "print('ROC AUC test:', roc_auc)\n",
        "print('Accuracy:', accuracy)\n",
        "print('Precision:', precision)\n",
        "print('Recall:', recall)\n",
        "print('F1 Score:', f1)\n",
        "\n",
        "# Plot confusion matrix using seaborn\n",
        "plt.figure(figsize=(8, 6))\n",
        "sns.heatmap(conf_matrix, annot=True, fmt='d', cmap='Blues', xticklabels=['Negative', 'Positive'], yticklabels=['Negative', 'Positive'])\n",
        "plt.xlabel('Predicted')\n",
        "plt.ylabel('True')\n",
        "plt.title('Confusion Matrix - Test Set')\n",
        "plt.show()"
      ],
      "metadata": {
        "colab": {
          "base_uri": "https://localhost:8080/",
          "height": 655
        },
        "id": "MjCsoiXsVY0b",
        "outputId": "96a080ab-0043-4b78-f654-cb5a660e3943"
      },
      "execution_count": null,
      "outputs": [
        {
          "output_type": "stream",
          "name": "stdout",
          "text": [
            "ROC AUC test: 1.0\n",
            "Accuracy: 1.0\n",
            "Precision: 1.0\n",
            "Recall: 1.0\n",
            "F1 Score: 1.0\n"
          ]
        },
        {
          "output_type": "display_data",
          "data": {
            "text/plain": [
              "<Figure size 800x600 with 2 Axes>"
            ],
            "image/png": "[encoded data removed]"
          },
          "metadata": {}
        }
      ]
    },
    {
      "cell_type": "markdown",
      "metadata": {
        "id": "aJy6pt6eCCAB"
      },
      "source": [
        "#Roberta_train"
      ]
    },
    {
      "cell_type": "code",
      "execution_count": null,
      "metadata": {
        "id": "08MaS26wC2G-"
      },
      "outputs": [],
      "source": [
        "# Define pretrained tokenizer and model\n",
        "model_name = \"aibert-base-cased\"\n",
        "tokenizer =  AlbertTokenizerFast.from_pretrained(model_name)\n",
        "model = AlbertForSequenceClassification.from_pretrained(model_name, num_labels=1)\n",
        "\n",
        "X_train_tokenized = tokenizer(X_train, padding=True, truncation=True, max_length=512)\n",
        "X_test_tokenized = tokenizer(X_test, padding=True, truncation=True, max_length=512)\n",
        "\n",
        "# ----- 1. Preprocess data -----#\n",
        "# Preprocess data\n",
        "X = list(train_data[\"text\"])\n",
        "y = list(train_data[\"label\"])\n",
        "X_train, X_val, y_train, y_val = train_test_split(X, y, test_size=0.2)\n",
        "X_train_tokenized = tokenizer(X_train, padding=True, truncation=True, max_length=512)\n",
        "X_val_tokenized = tokenizer(X_val, padding=True, truncation=True, max_length=512)\n",
        "X_test_tokenized = tokenizer(X_test, padding=True, truncation=True, max_length=512)\n",
        "\n",
        "train_dataset = Dataset(X_train_tokenized, y_train)\n",
        "val_dataset = Dataset(X_val_tokenized, y_val)\n",
        "test_dataset = Dataset(X_test_tokenized)\n",
        "\n",
        "# Define Trainer\n",
        "args = TrainingArguments(\n",
        "    output_dir=\"output\",\n",
        "    evaluation_strategy=\"steps\",\n",
        "    eval_steps=500,\n",
        "    per_device_train_batch_size=8,\n",
        "    per_device_eval_batch_size=8,\n",
        "    num_train_epochs=3,\n",
        "    seed=0,\n",
        "    load_best_model_at_end=True,\n",
        "    report_to=\"wandb\",  # enable logging to W&B\n",
        "    run_name=\"aibert-base-cased-openai-detector(fixed)\",  # name of the W&B run (optional)\n",
        "    logging_steps=1\n",
        ")\n",
        "trainer = Trainer(\n",
        "    model=model,\n",
        "    args=args,\n",
        "    train_dataset=train_dataset,\n",
        "    eval_dataset=val_dataset,\n",
        "    compute_metrics=compute_metrics,\n",
        "    callbacks=[EarlyStoppingCallback(early_stopping_patience=3)],\n",
        ")\n",
        "\n",
        "# Train pre-trained model\n",
        "trainer.train()"
      ]
    },
    {
      "cell_type": "code",
      "execution_count": null,
      "metadata": {
        "id": "pqLbXyc6C2I5"
      },
      "outputs": [],
      "source": [
        "model_save_path = \"/content/drive/MyDrive/LLM Parameter/AIbert\"\n",
        "trainer.save_model(model_save_path)\n",
        "\n",
        "config_save_path = '/content/drive/MyDrive/LLM Parameter/AIbert'\n",
        "model.config.save_pretrained(config_save_path)"
      ]
    },
    {
      "cell_type": "code",
      "source": [
        "import zipfile\n",
        "import os\n",
        "\n",
        "# Replace 'your_path' with the path where you have the zip file\n",
        "zip_file_path = '/content/drive/MyDrive/LLM Parameter/robert.zip'\n",
        "extract_folder = '/content/'\n",
        "\n",
        "# Unzip the file\n",
        "with zipfile.ZipFile(zip_file_path, 'r') as zip_ref:\n",
        "    zip_ref.extractall(extract_folder)"
      ],
      "metadata": {
        "id": "W_-gyTcaVqo2"
      },
      "execution_count": null,
      "outputs": []
    },
    {
      "cell_type": "code",
      "source": [
        "tokenizer = RobertaTokenizerFast.from_pretrained(\"/content/roberta_1\")\n",
        "Chat_test = list(merged_df[\"text\"])\n",
        "\n",
        "# Tokenize the test data\n",
        "chat_test_tokenized = tokenizer(Chat_test, padding=True, truncation=True, max_length=512)\n",
        "\n",
        "# Create torch dataset\n",
        "chat_test_dataset = Dataset(chat_test_tokenized)\n",
        "\n",
        "# Load the trained model using AutoModelForSequenceClassification\n",
        "model_path = \"/content/file_2/content/output/checkpoint-3000\"\n",
        "model = RobertaForSequenceClassification.from_pretrained(model_path, num_labels=1, ignore_mismatched_sizes=True)\n",
        "\n",
        "# Define the test trainer\n",
        "test_trainer = Trainer(model)\n",
        "\n",
        "# Make predictions\n",
        "raw_pred = test_trainer.predict(chat_test_dataset).predictions\n",
        "\n",
        "# Apply sigmoid activation if necessary\n",
        "test_pred4 = (torch.tensor(raw_pred)).numpy().ravel()"
      ],
      "metadata": {
        "colab": {
          "base_uri": "https://localhost:8080/",
          "height": 17
        },
        "id": "jH01N6fTVytZ",
        "outputId": "3cdcbf1c-9e14-4980-e2d3-42489ca9c704"
      },
      "execution_count": null,
      "outputs": [
        {
          "output_type": "display_data",
          "data": {
            "text/plain": [
              "<IPython.core.display.HTML object>"
            ],
            "text/html": []
          },
          "metadata": {}
        }
      ]
    },
    {
      "cell_type": "code",
      "source": [
        "from sklearn.metrics import confusion_matrix, roc_auc_score, roc_curve, auc, accuracy_score, precision_score, recall_score, f1_score\n",
        "import seaborn as sns\n",
        "import matplotlib.pyplot as plt\n",
        "\n",
        "# Make predictions on the test set\n",
        "preds_tes = test_pred4\n",
        "y_test_vectors = merged_df['label']\n",
        "\n",
        "# Generate confusion matrix\n",
        "fpr, tpr, thresholds = roc_curve(y_test_vectors, preds_test)\n",
        "roc_auc = auc(fpr, tpr)\n",
        "\n",
        "# You can choose a threshold based on your requirements, for example, maximizing the F1 score\n",
        "optimal_threshold = thresholds[np.argmax(tpr - fpr)]\n",
        "\n",
        "# Convert probabilities to binary predictions using the optimal threshold\n",
        "binary_preds_test = (preds_test >= optimal_threshold).astype(int)\n",
        "\n",
        "# Generate confusion matrix\n",
        "conf_matrix = confusion_matrix(y_test_vectors, binary_preds_test)\n",
        "\n",
        "# Calculate additional metrics\n",
        "accuracy = accuracy_score(y_test_vectors, binary_preds_test)\n",
        "precision = precision_score(y_test_vectors, binary_preds_test)\n",
        "recall = recall_score(y_test_vectors, binary_preds_test)\n",
        "f1 = f1_score(y_test_vectors, binary_preds_test)\n",
        "\n",
        "# Print metrics\n",
        "print('ROC AUC test:', roc_auc)\n",
        "print('Accuracy:', accuracy)\n",
        "print('Precision:', precision)\n",
        "print('Recall:', recall)\n",
        "print('F1 Score:', f1)\n",
        "\n",
        "# Plot confusion matrix using seaborn\n",
        "plt.figure(figsize=(8, 6))\n",
        "sns.heatmap(conf_matrix, annot=True, fmt='d', cmap='Blues', xticklabels=['Negative', 'Positive'], yticklabels=['Negative', 'Positive'])\n",
        "plt.xlabel('Predicted')\n",
        "plt.ylabel('True')\n",
        "plt.title('Confusion Matrix - Test Set')\n",
        "plt.show()"
      ],
      "metadata": {
        "colab": {
          "base_uri": "https://localhost:8080/",
          "height": 655
        },
        "id": "WNJ1D0YcV0Rp",
        "outputId": "7ab007d4-d53d-4e9f-e9d8-c67ef0678b02"
      },
      "execution_count": null,
      "outputs": [
        {
          "output_type": "stream",
          "name": "stdout",
          "text": [
            "ROC AUC test: 0.9753086419753086\n",
            "Accuracy: 0.9444444444444444\n",
            "Precision: 1.0\n",
            "Recall: 0.8888888888888888\n",
            "F1 Score: 0.9411764705882353\n"
          ]
        },
        {
          "output_type": "display_data",
          "data": {
            "text/plain": [
              "<Figure size 800x600 with 2 Axes>"
            ],
            "image/png": "[encoded data removed]"
          },
          "metadata": {}
        }
      ]
    },
    {
      "cell_type": "markdown",
      "metadata": {
        "id": "AlhyaHtmC4Ol"
      },
      "source": [
        "#앙상블"
      ]
    },
    {
      "cell_type": "code",
      "execution_count": null,
      "metadata": {
        "id": "mn_cJxHF-AxK"
      },
      "outputs": [],
      "source": [
        "average_pred = (test_pred1 + test_pred2 + test_pred3 + test_pred4) / 4"
      ]
    },
    {
      "cell_type": "code",
      "source": [
        "from sklearn.metrics import confusion_matrix, roc_auc_score, roc_curve, auc, accuracy_score, precision_score, recall_score, f1_score\n",
        "import seaborn as sns\n",
        "import matplotlib.pyplot as plt\n",
        "\n",
        "# Make predictions on the test set\n",
        "preds_tes = average_pred\n",
        "y_test_vectors = merged_df['label']\n",
        "\n",
        "# Generate confusion matrix\n",
        "fpr, tpr, thresholds = roc_curve(y_test_vectors, preds_test)\n",
        "roc_auc = auc(fpr, tpr)\n",
        "\n",
        "# You can choose a threshold based on your requirements, for example, maximizing the F1 score\n",
        "optimal_threshold = thresholds[np.argmax(tpr - fpr)]\n",
        "\n",
        "# Convert probabilities to binary predictions using the optimal threshold\n",
        "binary_preds_test = (preds_test >= optimal_threshold).astype(int)\n",
        "\n",
        "# Generate confusion matrix\n",
        "conf_matrix = confusion_matrix(y_test_vectors, binary_preds_test)\n",
        "\n",
        "# Calculate additional metrics\n",
        "accuracy = accuracy_score(y_test_vectors, binary_preds_test)\n",
        "precision = precision_score(y_test_vectors, binary_preds_test)\n",
        "recall = recall_score(y_test_vectors, binary_preds_test)\n",
        "f1 = f1_score(y_test_vectors, binary_preds_test)\n",
        "\n",
        "# Print metrics\n",
        "print('ROC AUC test:', roc_auc)\n",
        "print('Accuracy:', accuracy)\n",
        "print('Precision:', precision)\n",
        "print('Recall:', recall)\n",
        "print('F1 Score:', f1)\n",
        "\n",
        "# Plot confusion matrix using seaborn\n",
        "plt.figure(figsize=(8, 6))\n",
        "sns.heatmap(conf_matrix, annot=True, fmt='d', cmap='Blues', xticklabels=['Negative', 'Positive'], yticklabels=['Negative', 'Positive'])\n",
        "plt.xlabel('Predicted')\n",
        "plt.ylabel('True')\n",
        "plt.title('Confusion Matrix - Test Set')\n",
        "plt.show()"
      ],
      "metadata": {
        "colab": {
          "base_uri": "https://localhost:8080/",
          "height": 655
        },
        "id": "KX32n4lZXlpL",
        "outputId": "a06cb259-86fa-460f-b4ae-3571d330642d"
      },
      "execution_count": null,
      "outputs": [
        {
          "output_type": "stream",
          "name": "stdout",
          "text": [
            "ROC AUC test: 0.9753086419753086\n",
            "Accuracy: 0.9444444444444444\n",
            "Precision: 1.0\n",
            "Recall: 0.8888888888888888\n",
            "F1 Score: 0.9411764705882353\n"
          ]
        },
        {
          "output_type": "display_data",
          "data": {
            "text/plain": [
              "<Figure size 800x600 with 2 Axes>"
            ],
            "image/png": "[encoded data removed]"
          },
          "metadata": {}
        }
      ]
    },
    {
      "cell_type": "code",
      "source": [],
      "metadata": {
        "id": "AULxqLigXnoU"
      },
      "execution_count": null,
      "outputs": []
    }
  ],
  "metadata": {
    "colab": {
      "provenance": [],
      "gpuType": "V100",
      "machine_shape": "hm",
      "include_colab_link": true
    },
    "kaggle": {
      "accelerator": "gpu",
      "dataSources": [
        {
          "databundleVersionId": 6888007,
          "sourceId": 61542,
          "sourceType": "competition"
        },
        {
          "datasetId": 3942644,
          "sourceId": 6890527,
          "sourceType": "datasetVersion"
        },
        {
          "datasetId": 4025569,
          "sourceId": 7002528,
          "sourceType": "datasetVersion"
        },
        {
          "datasetId": 4026254,
          "sourceId": 7003573,
          "sourceType": "datasetVersion"
        }
      ],
      "dockerImageVersionId": 30588,
      "isGpuEnabled": true,
      "isInternetEnabled": false,
      "language": "python",
      "sourceType": "notebook"
    },
    "kernelspec": {
      "display_name": "Python 3",
      "name": "python3"
    },
    "language_info": {
      "codemirror_mode": {
        "name": "ipython",
        "version": 3
      },
      "file_extension": ".py",
      "mimetype": "text/x-python",
      "name": "python",
      "nbconvert_exporter": "python",
      "pygments_lexer": "ipython3",
      "version": "3.10.12"
    },
    "accelerator": "GPU"
  },
  "nbformat": 4,
  "nbformat_minor": 0
}